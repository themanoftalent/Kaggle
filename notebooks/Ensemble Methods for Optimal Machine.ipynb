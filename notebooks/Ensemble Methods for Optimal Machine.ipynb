{
 "cells": [
  {
   "cell_type": "markdown",
   "metadata": {},
   "source": [
    "# 🌧️ Rainfall Prediction with Advanced EDA, Preprocessing, Ensemble Models and Optimization\n",
    "In this notebook, we explore, process, model, and optimize predictions for the 2025 Kaggle Playground Series (S5E3) rainfall prediction challenge. We apply ensemble learning (LightGBM, XGBoost, CatBoost) with a stacking meta-model, use feature engineering, and include detailed model evaluation with ROC and Confusion Matrix."
   ]
  },
  {
   "cell_type": "code",
   "execution_count": 1,
   "metadata": {},
   "outputs": [],
   "source": [
    "import pandas as pd\n",
    "import numpy as np\n",
    "import seaborn as sns\n",
    "import matplotlib.pyplot as plt\n",
    "from sklearn.model_selection import StratifiedKFold, train_test_split\n",
    "from sklearn.preprocessing import StandardScaler\n",
    "from sklearn.metrics import roc_auc_score, roc_curve, confusion_matrix, ConfusionMatrixDisplay\n",
    "from sklearn.ensemble import StackingClassifier\n",
    "from sklearn.linear_model import LogisticRegression\n",
    "from lightgbm import LGBMClassifier\n",
    "from xgboost import XGBClassifier\n",
    "from catboost import CatBoostClassifier\n",
    "import warnings\n",
    "warnings.filterwarnings('ignore')"
   ]
  },
  {
   "cell_type": "code",
   "execution_count": 2,
   "metadata": {},
   "outputs": [],
   "source": [
    "train = pd.read_csv('/kaggle/input/playground-series-s5e3/train.csv')\n",
    "test = pd.read_csv('/kaggle/input/playground-series-s5e3/test.csv')\n",
    "submission = pd.read_csv('/kaggle/input/playground-series-s5e3/sample_submission.csv')"
   ]
  },
  {
   "cell_type": "markdown",
   "metadata": {},
   "source": [
    "## 📊 Exploratory Data Analysis (EDA)"
   ]
  },
  {
   "cell_type": "code",
   "execution_count": 3,
   "metadata": {},
   "outputs": [],
   "source": [
    "sns.countplot(x='rainfall', data=train)\n",
    "plt.title('Rainfall Distribution')\n",
    "plt.show()\n",
    "\n",
    "plt.figure(figsize=(12,8))\n",
    "sns.heatmap(train.drop(['id'], axis=1).corr(), annot=True, fmt='.2f', cmap='coolwarm')\n",
    "plt.title('Feature Correlation Heatmap')\n",
    "plt.show()"
   ]
  },
  {
   "cell_type": "markdown",
   "metadata": {},
   "source": [
    "## 🛠️ Feature Engineering & Preprocessing"
   ]
  },
  {
   "cell_type": "code",
   "execution_count": 4,
   "metadata": {},
   "outputs": [],
   "source": [
    "train['temp_range'] = train['maxtemp'] - train['mintemp']\n",
    "train['humidity_pressure_ratio'] = train['humidity'] / train['pressure']\n",
    "test['temp_range'] = test['maxtemp'] - test['mintemp']\n",
    "test['humidity_pressure_ratio'] = test['humidity'] / test['pressure']\n",
    "\n",
    "X = train.drop(['id', 'rainfall'], axis=1)\n",
    "y = train['rainfall']\n",
    "X_test = test.drop(['id'], axis=1)\n",
    "\n",
    "scaler = StandardScaler()\n",
    "X_scaled = scaler.fit_transform(X)\n",
    "X_test_scaled = scaler.transform(X_test)"
   ]
  },
  {
   "cell_type": "markdown",
   "metadata": {},
   "source": [
    "## 🔍 Train/Validation Split"
   ]
  },
  {
   "cell_type": "code",
   "execution_count": 5,
   "metadata": {},
   "outputs": [],
   "source": [
    "X_train, X_val, y_train, y_val = train_test_split(X_scaled, y, test_size=0.2, random_state=42, stratify=y)"
   ]
  },
  {
   "cell_type": "markdown",
   "metadata": {},
   "source": [
    "## 🌲 Base Models and Meta-Model"
   ]
  },
  {
   "cell_type": "code",
   "execution_count": 6,
   "metadata": {},
   "outputs": [],
   "source": [
    "lgb = LGBMClassifier(n_estimators=500, learning_rate=0.05, random_state=42)\n",
    "xgb = XGBClassifier(n_estimators=500, learning_rate=0.05, use_label_encoder=False, eval_metric='logloss', random_state=42)\n",
    "cat = CatBoostClassifier(iterations=500, learning_rate=0.05, verbose=0, random_state=42)\n",
    "meta_model = LogisticRegression(max_iter=500)"
   ]
  },
  {
   "cell_type": "markdown",
   "metadata": {},
   "source": [
    "## 🤖 Ensemble Learning with Stacking"
   ]
  },
  {
   "cell_type": "code",
   "execution_count": 7,
   "metadata": {},
   "outputs": [],
   "source": [
    "ensemble = StackingClassifier(\n",
    "    estimators=[('lgb', lgb), ('xgb', xgb), ('cat', cat)],\n",
    "    final_estimator=meta_model,\n",
    "    cv=5,\n",
    "    stack_method='predict_proba',\n",
    "    n_jobs=-1\n",
    ")\n",
    "\n",
    "ensemble.fit(X_train, y_train)\n",
    "val_preds = ensemble.predict_proba(X_val)[:, 1]\n",
    "roc = roc_auc_score(y_val, val_preds)\n",
    "print(\"Validation AUC-ROC:\", roc)"
   ]
  },
  {
   "cell_type": "markdown",
   "metadata": {},
   "source": [
    "## 📉 ROC Curve & Confusion Matrix"
   ]
  },
  {
   "cell_type": "code",
   "execution_count": 8,
   "metadata": {},
   "outputs": [],
   "source": [
    "fpr, tpr, _ = roc_curve(y_val, val_preds)\n",
    "plt.plot(fpr, tpr, label=f'AUC = {roc:.4f}')\n",
    "plt.plot([0, 1], [0, 1], linestyle='--')\n",
    "plt.title('ROC Curve')\n",
    "plt.xlabel('False Positive Rate')\n",
    "plt.ylabel('True Positive Rate')\n",
    "plt.legend()\n",
    "plt.show()\n",
    "\n",
    "thresholded_preds = (val_preds > 0.5).astype(int)\n",
    "cm = confusion_matrix(y_val, thresholded_preds)\n",
    "ConfusionMatrixDisplay(cm, display_labels=[\"No Rain\", \"Rain\"]).plot()\n",
    "plt.title('Confusion Matrix')\n",
    "plt.show()"
   ]
  },
  {
   "cell_type": "markdown",
   "metadata": {},
   "source": [
    "## 📤 Submission"
   ]
  },
  {
   "cell_type": "code",
   "execution_count": 9,
   "metadata": {},
   "outputs": [],
   "source": [
    "final_preds = ensemble.predict_proba(X_test_scaled)[:, 1]\n",
    "submission['rainfall'] = final_preds\n",
    "submission.to_csv('submission.csv', index=False)\n",
    "submission.head()"
   ]
  }
 ],
 "metadata": {
  "kernelspec": {
   "display_name": "Python 3",
   "language": "python",
   "name": "python3"
  },
  "language_info": {
   "name": "python",
   "version": "3.8"
  }
 },
 "nbformat": 4,
 "nbformat_minor": 2
}
